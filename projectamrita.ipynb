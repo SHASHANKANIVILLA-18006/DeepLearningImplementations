{
  "nbformat": 4,
  "nbformat_minor": 0,
  "metadata": {
    "colab": {
      "name": "projectamrita.ipynb",
      "provenance": [],
      "collapsed_sections": [],
      "include_colab_link": true
    },
    "kernelspec": {
      "name": "python3",
      "display_name": "Python 3"
    },
    "accelerator": "GPU"
  },
  "cells": [
    {
      "cell_type": "markdown",
      "metadata": {
        "id": "view-in-github",
        "colab_type": "text"
      },
      "source": [
        "<a href=\"https://colab.research.google.com/github/SHASHANKANIVILLA-18006/DeepLearningImplementations/blob/master/projectamrita.ipynb\" target=\"_parent\"><img src=\"https://colab.research.google.com/assets/colab-badge.svg\" alt=\"Open In Colab\"/></a>"
      ]
    },
    {
      "cell_type": "code",
      "metadata": {
        "id": "OpUyfSo8aryw",
        "colab_type": "code",
        "colab": {}
      },
      "source": [
        ""
      ],
      "execution_count": 0,
      "outputs": []
    },
    {
      "cell_type": "code",
      "metadata": {
        "id": "zE_oNELcgrOn",
        "colab_type": "code",
        "outputId": "0a75752e-6a45-4bd3-fb5e-660849b1fbd4",
        "colab": {
          "base_uri": "https://localhost:8080/",
          "height": 51
        }
      },
      "source": [
        "from google.colab import drive\n",
        "drive.mount('/gdrive')\n",
        "%cd /gdrive"
      ],
      "execution_count": 8,
      "outputs": [
        {
          "output_type": "stream",
          "text": [
            "Drive already mounted at /gdrive; to attempt to forcibly remount, call drive.mount(\"/gdrive\", force_remount=True).\n",
            "/gdrive\n"
          ],
          "name": "stdout"
        }
      ]
    },
    {
      "cell_type": "code",
      "metadata": {
        "id": "Fxl7m97dgjde",
        "colab_type": "code",
        "outputId": "d33e1747-8d85-408d-c85f-65b14b4dcbc8",
        "colab": {
          "base_uri": "https://localhost:8080/",
          "height": 34
        }
      },
      "source": [
        "!git clone https://github.com/yuzhoucw/230pix2pix.git\n"
      ],
      "execution_count": 13,
      "outputs": [
        {
          "output_type": "stream",
          "text": [
            "fatal: could not create work tree dir '230pix2pix': Operation not supported\n"
          ],
          "name": "stdout"
        }
      ]
    },
    {
      "cell_type": "code",
      "metadata": {
        "id": "lz4OkHGNhyG4",
        "colab_type": "code",
        "outputId": "1b25c936-404d-4f0f-9e90-f75b80b0378a",
        "colab": {
          "base_uri": "https://localhost:8080/",
          "height": 34
        }
      },
      "source": [
        "!python /content/230pix2pix/main.py --mode train --data_dir [gdrive/My Drive/GPU/without Augment/facades_Case-1/train] --n_epoch 200 --G resnet9 --gan_loss MSE"
      ],
      "execution_count": 6,
      "outputs": [
        {
          "output_type": "stream",
          "text": [
            "python3: can't open file '/content/230pix2pix/main.py': [Errno 2] No such file or directory\n"
          ],
          "name": "stdout"
        }
      ]
    },
    {
      "cell_type": "code",
      "metadata": {
        "id": "Fff01JvViHCH",
        "colab_type": "code",
        "outputId": "2729e574-4ab4-4e1d-992b-355550d8978c",
        "colab": {
          "base_uri": "https://localhost:8080/",
          "height": 598
        }
      },
      "source": [
        "!pip install visdom\n"
      ],
      "execution_count": 0,
      "outputs": [
        {
          "output_type": "stream",
          "text": [
            "Collecting visdom\n",
            "\u001b[?25l  Downloading https://files.pythonhosted.org/packages/c9/75/e078f5a2e1df7e0d3044749089fc2823e62d029cc027ed8ae5d71fafcbdc/visdom-0.1.8.9.tar.gz (676kB)\n",
            "\r\u001b[K     |▌                               | 10kB 18.7MB/s eta 0:00:01\r\u001b[K     |█                               | 20kB 2.2MB/s eta 0:00:01\r\u001b[K     |█▌                              | 30kB 3.2MB/s eta 0:00:01\r\u001b[K     |██                              | 40kB 2.1MB/s eta 0:00:01\r\u001b[K     |██▍                             | 51kB 2.6MB/s eta 0:00:01\r\u001b[K     |███                             | 61kB 3.1MB/s eta 0:00:01\r\u001b[K     |███▍                            | 71kB 3.5MB/s eta 0:00:01\r\u001b[K     |███▉                            | 81kB 2.8MB/s eta 0:00:01\r\u001b[K     |████▍                           | 92kB 3.1MB/s eta 0:00:01\r\u001b[K     |████▉                           | 102kB 3.4MB/s eta 0:00:01\r\u001b[K     |█████▎                          | 112kB 3.4MB/s eta 0:00:01\r\u001b[K     |█████▉                          | 122kB 3.4MB/s eta 0:00:01\r\u001b[K     |██████▎                         | 133kB 3.4MB/s eta 0:00:01\r\u001b[K     |██████▉                         | 143kB 3.4MB/s eta 0:00:01\r\u001b[K     |███████▎                        | 153kB 3.4MB/s eta 0:00:01\r\u001b[K     |███████▊                        | 163kB 3.4MB/s eta 0:00:01\r\u001b[K     |████████▎                       | 174kB 3.4MB/s eta 0:00:01\r\u001b[K     |████████▊                       | 184kB 3.4MB/s eta 0:00:01\r\u001b[K     |█████████▏                      | 194kB 3.4MB/s eta 0:00:01\r\u001b[K     |█████████▊                      | 204kB 3.4MB/s eta 0:00:01\r\u001b[K     |██████████▏                     | 215kB 3.4MB/s eta 0:00:01\r\u001b[K     |██████████▋                     | 225kB 3.4MB/s eta 0:00:01\r\u001b[K     |███████████▏                    | 235kB 3.4MB/s eta 0:00:01\r\u001b[K     |███████████▋                    | 245kB 3.4MB/s eta 0:00:01\r\u001b[K     |████████████                    | 256kB 3.4MB/s eta 0:00:01\r\u001b[K     |████████████▋                   | 266kB 3.4MB/s eta 0:00:01\r\u001b[K     |█████████████                   | 276kB 3.4MB/s eta 0:00:01\r\u001b[K     |█████████████▋                  | 286kB 3.4MB/s eta 0:00:01\r\u001b[K     |██████████████                  | 296kB 3.4MB/s eta 0:00:01\r\u001b[K     |██████████████▌                 | 307kB 3.4MB/s eta 0:00:01\r\u001b[K     |███████████████                 | 317kB 3.4MB/s eta 0:00:01\r\u001b[K     |███████████████▌                | 327kB 3.4MB/s eta 0:00:01\r\u001b[K     |████████████████                | 337kB 3.4MB/s eta 0:00:01\r\u001b[K     |████████████████▌               | 348kB 3.4MB/s eta 0:00:01\r\u001b[K     |█████████████████               | 358kB 3.4MB/s eta 0:00:01\r\u001b[K     |█████████████████▍              | 368kB 3.4MB/s eta 0:00:01\r\u001b[K     |██████████████████              | 378kB 3.4MB/s eta 0:00:01\r\u001b[K     |██████████████████▍             | 389kB 3.4MB/s eta 0:00:01\r\u001b[K     |███████████████████             | 399kB 3.4MB/s eta 0:00:01\r\u001b[K     |███████████████████▍            | 409kB 3.4MB/s eta 0:00:01\r\u001b[K     |███████████████████▉            | 419kB 3.4MB/s eta 0:00:01\r\u001b[K     |████████████████████▍           | 430kB 3.4MB/s eta 0:00:01\r\u001b[K     |████████████████████▉           | 440kB 3.4MB/s eta 0:00:01\r\u001b[K     |█████████████████████▎          | 450kB 3.4MB/s eta 0:00:01\r\u001b[K     |█████████████████████▉          | 460kB 3.4MB/s eta 0:00:01\r\u001b[K     |██████████████████████▎         | 471kB 3.4MB/s eta 0:00:01\r\u001b[K     |██████████████████████▊         | 481kB 3.4MB/s eta 0:00:01\r\u001b[K     |███████████████████████▎        | 491kB 3.4MB/s eta 0:00:01\r\u001b[K     |███████████████████████▊        | 501kB 3.4MB/s eta 0:00:01\r\u001b[K     |████████████████████████▏       | 512kB 3.4MB/s eta 0:00:01\r\u001b[K     |████████████████████████▊       | 522kB 3.4MB/s eta 0:00:01\r\u001b[K     |█████████████████████████▏      | 532kB 3.4MB/s eta 0:00:01\r\u001b[K     |█████████████████████████▊      | 542kB 3.4MB/s eta 0:00:01\r\u001b[K     |██████████████████████████▏     | 552kB 3.4MB/s eta 0:00:01\r\u001b[K     |██████████████████████████▋     | 563kB 3.4MB/s eta 0:00:01\r\u001b[K     |███████████████████████████▏    | 573kB 3.4MB/s eta 0:00:01\r\u001b[K     |███████████████████████████▋    | 583kB 3.4MB/s eta 0:00:01\r\u001b[K     |████████████████████████████    | 593kB 3.4MB/s eta 0:00:01\r\u001b[K     |████████████████████████████▋   | 604kB 3.4MB/s eta 0:00:01\r\u001b[K     |█████████████████████████████   | 614kB 3.4MB/s eta 0:00:01\r\u001b[K     |█████████████████████████████▌  | 624kB 3.4MB/s eta 0:00:01\r\u001b[K     |██████████████████████████████  | 634kB 3.4MB/s eta 0:00:01\r\u001b[K     |██████████████████████████████▌ | 645kB 3.4MB/s eta 0:00:01\r\u001b[K     |███████████████████████████████ | 655kB 3.4MB/s eta 0:00:01\r\u001b[K     |███████████████████████████████▌| 665kB 3.4MB/s eta 0:00:01\r\u001b[K     |████████████████████████████████| 675kB 3.4MB/s eta 0:00:01\r\u001b[K     |████████████████████████████████| 686kB 3.4MB/s \n",
            "\u001b[?25hRequirement already satisfied: numpy>=1.8 in /usr/local/lib/python3.6/dist-packages (from visdom) (1.18.2)\n",
            "Requirement already satisfied: scipy in /usr/local/lib/python3.6/dist-packages (from visdom) (1.4.1)\n",
            "Requirement already satisfied: requests in /usr/local/lib/python3.6/dist-packages (from visdom) (2.21.0)\n",
            "Requirement already satisfied: tornado in /usr/local/lib/python3.6/dist-packages (from visdom) (4.5.3)\n",
            "Requirement already satisfied: pyzmq in /usr/local/lib/python3.6/dist-packages (from visdom) (17.0.0)\n",
            "Requirement already satisfied: six in /usr/local/lib/python3.6/dist-packages (from visdom) (1.12.0)\n",
            "Collecting jsonpatch\n",
            "  Downloading https://files.pythonhosted.org/packages/82/53/73ca86f2a680c705dcd1708be4887c559dfe9ed250486dd3ccd8821b8ccb/jsonpatch-1.25-py2.py3-none-any.whl\n",
            "Collecting torchfile\n",
            "  Downloading https://files.pythonhosted.org/packages/91/af/5b305f86f2d218091af657ddb53f984ecbd9518ca9fe8ef4103a007252c9/torchfile-0.1.0.tar.gz\n",
            "Collecting websocket-client\n",
            "\u001b[?25l  Downloading https://files.pythonhosted.org/packages/4c/5f/f61b420143ed1c8dc69f9eaec5ff1ac36109d52c80de49d66e0c36c3dfdf/websocket_client-0.57.0-py2.py3-none-any.whl (200kB)\n",
            "\u001b[K     |████████████████████████████████| 204kB 46.6MB/s \n",
            "\u001b[?25hRequirement already satisfied: pillow in /usr/local/lib/python3.6/dist-packages (from visdom) (7.0.0)\n",
            "Requirement already satisfied: certifi>=2017.4.17 in /usr/local/lib/python3.6/dist-packages (from requests->visdom) (2019.11.28)\n",
            "Requirement already satisfied: idna<2.9,>=2.5 in /usr/local/lib/python3.6/dist-packages (from requests->visdom) (2.8)\n",
            "Requirement already satisfied: urllib3<1.25,>=1.21.1 in /usr/local/lib/python3.6/dist-packages (from requests->visdom) (1.24.3)\n",
            "Requirement already satisfied: chardet<3.1.0,>=3.0.2 in /usr/local/lib/python3.6/dist-packages (from requests->visdom) (3.0.4)\n",
            "Collecting jsonpointer>=1.9\n",
            "  Downloading https://files.pythonhosted.org/packages/18/b0/a80d29577c08eea401659254dfaed87f1af45272899e1812d7e01b679bc5/jsonpointer-2.0-py2.py3-none-any.whl\n",
            "Building wheels for collected packages: visdom, torchfile\n",
            "  Building wheel for visdom (setup.py) ... \u001b[?25l\u001b[?25hdone\n",
            "  Created wheel for visdom: filename=visdom-0.1.8.9-cp36-none-any.whl size=655250 sha256=73266c106782a3eefa5f4a332b441b0715113cffe7fc19c0291162bf662ae257\n",
            "  Stored in directory: /root/.cache/pip/wheels/70/19/a7/6d589ed967f4dfefd33bc166d081257bd4ed0cb618dccfd62a\n",
            "  Building wheel for torchfile (setup.py) ... \u001b[?25l\u001b[?25hdone\n",
            "  Created wheel for torchfile: filename=torchfile-0.1.0-cp36-none-any.whl size=5712 sha256=f4ba754e59fca6ca83b164179ebfb19886d275bca634d410990306f44783ccfa\n",
            "  Stored in directory: /root/.cache/pip/wheels/b1/c3/d6/9a1cc8f3a99a0fc1124cae20153f36af59a6e683daca0a0814\n",
            "Successfully built visdom torchfile\n",
            "Installing collected packages: jsonpointer, jsonpatch, torchfile, websocket-client, visdom\n",
            "Successfully installed jsonpatch-1.25 jsonpointer-2.0 torchfile-0.1.0 visdom-0.1.8.9 websocket-client-0.57.0\n"
          ],
          "name": "stdout"
        }
      ]
    },
    {
      "cell_type": "code",
      "metadata": {
        "id": "xjFO0Ms2ijPp",
        "colab_type": "code",
        "colab": {}
      },
      "source": [
        ""
      ],
      "execution_count": 0,
      "outputs": []
    }
  ]
}